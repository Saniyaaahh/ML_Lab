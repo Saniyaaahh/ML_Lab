{
 "cells": [
  {
   "cell_type": "markdown",
   "id": "4e4d5626",
   "metadata": {},
   "source": [
    "#### a. Reading the CSV file using pandas:"
   ]
  },
  {
   "cell_type": "code",
   "execution_count": 42,
   "id": "3a786a69",
   "metadata": {},
   "outputs": [
    {
     "data": {
      "text/html": [
       "<div>\n",
       "<style scoped>\n",
       "    .dataframe tbody tr th:only-of-type {\n",
       "        vertical-align: middle;\n",
       "    }\n",
       "\n",
       "    .dataframe tbody tr th {\n",
       "        vertical-align: top;\n",
       "    }\n",
       "\n",
       "    .dataframe thead th {\n",
       "        text-align: right;\n",
       "    }\n",
       "</style>\n",
       "<table border=\"1\" class=\"dataframe\">\n",
       "  <thead>\n",
       "    <tr style=\"text-align: right;\">\n",
       "      <th></th>\n",
       "      <th>sky</th>\n",
       "      <th>air_temp</th>\n",
       "      <th>humidity</th>\n",
       "      <th>wind</th>\n",
       "      <th>water</th>\n",
       "      <th>forecast</th>\n",
       "      <th>enjoy_sport</th>\n",
       "    </tr>\n",
       "  </thead>\n",
       "  <tbody>\n",
       "    <tr>\n",
       "      <th>0</th>\n",
       "      <td>sunny</td>\n",
       "      <td>warm</td>\n",
       "      <td>normal</td>\n",
       "      <td>strong</td>\n",
       "      <td>warm</td>\n",
       "      <td>same</td>\n",
       "      <td>yes</td>\n",
       "    </tr>\n",
       "    <tr>\n",
       "      <th>1</th>\n",
       "      <td>sunny</td>\n",
       "      <td>warm</td>\n",
       "      <td>high</td>\n",
       "      <td>strong</td>\n",
       "      <td>warm</td>\n",
       "      <td>same</td>\n",
       "      <td>yes</td>\n",
       "    </tr>\n",
       "    <tr>\n",
       "      <th>2</th>\n",
       "      <td>rainy</td>\n",
       "      <td>cold</td>\n",
       "      <td>high</td>\n",
       "      <td>strong</td>\n",
       "      <td>warm</td>\n",
       "      <td>change</td>\n",
       "      <td>no</td>\n",
       "    </tr>\n",
       "    <tr>\n",
       "      <th>3</th>\n",
       "      <td>sunny</td>\n",
       "      <td>warm</td>\n",
       "      <td>high</td>\n",
       "      <td>strong</td>\n",
       "      <td>cool</td>\n",
       "      <td>change</td>\n",
       "      <td>yes</td>\n",
       "    </tr>\n",
       "  </tbody>\n",
       "</table>\n",
       "</div>"
      ],
      "text/plain": [
       "     sky air_temp humidity    wind water forecast enjoy_sport\n",
       "0  sunny     warm   normal  strong  warm     same         yes\n",
       "1  sunny     warm     high  strong  warm     same         yes\n",
       "2  rainy     cold     high  strong  warm   change          no\n",
       "3  sunny     warm     high  strong  cool   change         yes"
      ]
     },
     "execution_count": 42,
     "metadata": {},
     "output_type": "execute_result"
    }
   ],
   "source": [
    "# Read the CSV file\n",
    "import pandas as pd\n",
    "df=pd.read_csv('enjoysport.csv')\n",
    "df"
   ]
  },
  {
   "cell_type": "markdown",
   "id": "45c82d69",
   "metadata": {},
   "source": [
    "#### b. Showing the total number of training instances:"
   ]
  },
  {
   "cell_type": "code",
   "execution_count": 43,
   "id": "3558ffef",
   "metadata": {},
   "outputs": [
    {
     "name": "stdout",
     "output_type": "stream",
     "text": [
      "The total number of training instances are: 4\n"
     ]
    }
   ],
   "source": [
    "# Calculate total number of training instances\n",
    "def total_training_instances(df):\n",
    "    return len(df)\n",
    "# Example usage:\n",
    "total_instances = total_training_instances(df)\n",
    "print(\"The total number of training instances are:\", total_instances)"
   ]
  },
  {
   "cell_type": "markdown",
   "id": "90ff22eb",
   "metadata": {},
   "source": [
    "#### c. Displaying the initial hypothesis:"
   ]
  },
  {
   "cell_type": "code",
   "execution_count": 44,
   "id": "a9af9427",
   "metadata": {},
   "outputs": [
    {
     "name": "stdout",
     "output_type": "stream",
     "text": [
      "The initial hypothesis are: ['0', '0', '0', '0', '0', '0']\n"
     ]
    }
   ],
   "source": [
    "# Initialize the initial hypothesis\n",
    "def initial_hypothesis(df):\n",
    "    return ['0'] * (len(df.columns) - 1)\n",
    "# Example usage:\n",
    "init_hypothesis = initial_hypothesis(df)\n",
    "print(\"The initial hypothesis are:\", init_hypothesis)"
   ]
  },
  {
   "cell_type": "markdown",
   "id": "fa6a7f04",
   "metadata": {},
   "source": [
    "#### d. Displaying the hypothesis for each training instance:"
   ]
  },
  {
   "cell_type": "code",
   "execution_count": 45,
   "id": "243302c3",
   "metadata": {},
   "outputs": [
    {
     "name": "stdout",
     "output_type": "stream",
     "text": [
      "The hypothesis for the training instance 1 is:\n",
      "['sunny', 'warm', 'normal', 'strong', 'warm', 'same']\n",
      "The hypothesis for the training instance 2 is:\n",
      "['sunny', 'warm', '?', 'strong', 'warm', 'same']\n",
      "The hypothesis for the training instance 3 is:\n",
      "['sunny', 'warm', '?', 'strong', '?', '?']\n"
     ]
    }
   ],
   "source": [
    "# Calculate hypothesis for each training instance\n",
    "def hypothesis_for_instances(df):\n",
    "    hypotheses = []\n",
    "    specific_hypothesis = initial_hypothesis(df)\n",
    "    for index, row in df.iterrows():\n",
    "        if row['enjoy_sport'] == 'yes':  # Adjusted column name to 'enjoy_sport'\n",
    "            for i in range(len(df.columns) - 1):\n",
    "                if specific_hypothesis[i] == '0':\n",
    "                    specific_hypothesis[i] = row[i]\n",
    "                elif specific_hypothesis[i] != row[i]:\n",
    "                    specific_hypothesis[i] = '?'\n",
    "            hypotheses.append(specific_hypothesis.copy())\n",
    "    return hypotheses\n",
    "\n",
    "# Example usage:\n",
    "hypotheses = hypothesis_for_instances(df)\n",
    "for idx, h in enumerate(hypotheses, start=1):\n",
    "    print(f\"The hypothesis for the training instance {idx} is:\")\n",
    "    print(h)\n"
   ]
  },
  {
   "cell_type": "markdown",
   "id": "9f54d281",
   "metadata": {},
   "source": [
    "#### e. Displaying the Maximally specific hypothesis:"
   ]
  },
  {
   "cell_type": "code",
   "execution_count": 46,
   "id": "e699cda1",
   "metadata": {},
   "outputs": [
    {
     "name": "stdout",
     "output_type": "stream",
     "text": [
      "The Maximally specific hypothesis for the training instance is:\n",
      " ['sunny', 'warm', '?', 'strong', '?', '?']\n"
     ]
    }
   ],
   "source": [
    "import pandas as pd\n",
    "\n",
    "# Function to read the initial hypothesis from the dataframe\n",
    "def initial_hypothesis(df):\n",
    "    return ['0'] * (len(df.columns) - 1)\n",
    "\n",
    "# Define the find_s_algorithm function\n",
    "def find_s_algorithm(df):\n",
    "    specific_hypothesis = initial_hypothesis(df)\n",
    "    for index, row in df.iterrows():\n",
    "        if row['enjoy_sport'] == 'yes':  # Ensure the column name matches\n",
    "            for i in range(len(df.columns) - 1):\n",
    "                if specific_hypothesis[i] == '0':\n",
    "                    specific_hypothesis[i] = row[i]\n",
    "                elif specific_hypothesis[i] != row[i]:\n",
    "                    specific_hypothesis[i] = '?'\n",
    "    return specific_hypothesis\n",
    "\n",
    "# Define the maximally_specific_hypothesis function\n",
    "def maximally_specific_hypothesis(df):\n",
    "    return find_s_algorithm(df)\n",
    "\n",
    "# Example usage:\n",
    "# Reading the CSV file\n",
    "df = pd.read_csv('enjoysport.csv')\n",
    "\n",
    "# Getting the maximally specific hypothesis\n",
    "max_specific_hypothesis = maximally_specific_hypothesis(df)\n",
    "\n",
    "# Printing the result\n",
    "print(\"The Maximally specific hypothesis for the training instance is:\\n\", max_specific_hypothesis)\n"
   ]
  }
 ],
 "metadata": {
  "kernelspec": {
   "display_name": "Python 3 (ipykernel)",
   "language": "python",
   "name": "python3"
  },
  "language_info": {
   "codemirror_mode": {
    "name": "ipython",
    "version": 3
   },
   "file_extension": ".py",
   "mimetype": "text/x-python",
   "name": "python",
   "nbconvert_exporter": "python",
   "pygments_lexer": "ipython3",
   "version": "3.11.2"
  }
 },
 "nbformat": 4,
 "nbformat_minor": 5
}
